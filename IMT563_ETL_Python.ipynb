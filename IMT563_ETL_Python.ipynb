{
 "cells": [
  {
   "cell_type": "code",
   "execution_count": 1,
   "id": "2282a0fc",
   "metadata": {
    "ExecuteTime": {
     "end_time": "2023-05-25T17:40:56.241113Z",
     "start_time": "2023-05-25T17:40:56.021442Z"
    }
   },
   "outputs": [],
   "source": [
    "import pandas as pd \n",
    "import numpy as np\n",
    "import sys \n",
    "import warnings\n",
    "\n",
    "warnings.filterwarnings('ignore')"
   ]
  },
  {
   "cell_type": "markdown",
   "id": "11fb88c1",
   "metadata": {},
   "source": [
    "### Airport Table\n",
    "\n",
    "Source: https://openflights.org/data.html"
   ]
  },
  {
   "cell_type": "code",
   "execution_count": 2,
   "id": "8addfeff",
   "metadata": {
    "ExecuteTime": {
     "end_time": "2023-05-25T17:41:13.087995Z",
     "start_time": "2023-05-25T17:41:13.018658Z"
    }
   },
   "outputs": [],
   "source": [
    "file_path = '/Users/jiashu/Documents/UW_IMT563/Project/data/ETL_Source/airport_raw.csv'\n",
    "\n",
    "airport_cols = [\"AirportID\", \"AirportName\", \"City\", \"Country\", \"IATA\", \"ICAO\", \n",
    "                \"Latitude\", \"Longitude\", \"Altitude\", \"TimezoneOffset\", \"DST\",\n",
    "               \"TimeZone\", \"Type\", \"Source\"]\n",
    "\n",
    "airport_csv = pd.read_csv(file_path, names = airport_cols, skiprows=[0])\n",
    "\n",
    "tbl_cols = [\"AirportName\", \"City\", \"Country\", \"IATA\", \"ICAO\", \n",
    "                \"Latitude\", \"Longitude\", \"Altitude\"]\n",
    "\n",
    "airport_tbl = airport_csv[tbl_cols]\n",
    "\n",
    "non_vals = ['\\\\N', 'NaN', '-', 'Unknown']\n",
    "\n",
    "airport_tbl = airport_tbl.replace(non_vals, np.nan)\n",
    "\n",
    "notnull_cols = [\"AirportName\", \"City\", \n",
    "                \"Latitude\", \"Longitude\", \"Altitude\"]\n",
    "\n",
    "airport_tbl.dropna(axis = 0, subset= notnull_cols, inplace  = True)"
   ]
  },
  {
   "cell_type": "code",
   "execution_count": 3,
   "id": "60548996",
   "metadata": {
    "ExecuteTime": {
     "end_time": "2023-05-25T17:41:15.822229Z",
     "start_time": "2023-05-25T17:41:15.789510Z"
    }
   },
   "outputs": [
    {
     "data": {
      "text/html": [
       "<div>\n",
       "<style scoped>\n",
       "    .dataframe tbody tr th:only-of-type {\n",
       "        vertical-align: middle;\n",
       "    }\n",
       "\n",
       "    .dataframe tbody tr th {\n",
       "        vertical-align: top;\n",
       "    }\n",
       "\n",
       "    .dataframe thead th {\n",
       "        text-align: right;\n",
       "    }\n",
       "</style>\n",
       "<table border=\"1\" class=\"dataframe\">\n",
       "  <thead>\n",
       "    <tr style=\"text-align: right;\">\n",
       "      <th></th>\n",
       "      <th>AirportName</th>\n",
       "      <th>City</th>\n",
       "      <th>Country</th>\n",
       "      <th>IATA</th>\n",
       "      <th>ICAO</th>\n",
       "      <th>Latitude</th>\n",
       "      <th>Longitude</th>\n",
       "      <th>Altitude</th>\n",
       "    </tr>\n",
       "  </thead>\n",
       "  <tbody>\n",
       "    <tr>\n",
       "      <th>0</th>\n",
       "      <td>Goroka Airport</td>\n",
       "      <td>Goroka</td>\n",
       "      <td>Papua New Guinea</td>\n",
       "      <td>GKA</td>\n",
       "      <td>AYGA</td>\n",
       "      <td>-6.081690</td>\n",
       "      <td>145.391998</td>\n",
       "      <td>5282</td>\n",
       "    </tr>\n",
       "    <tr>\n",
       "      <th>1</th>\n",
       "      <td>Madang Airport</td>\n",
       "      <td>Madang</td>\n",
       "      <td>Papua New Guinea</td>\n",
       "      <td>MAG</td>\n",
       "      <td>AYMD</td>\n",
       "      <td>-5.207080</td>\n",
       "      <td>145.789001</td>\n",
       "      <td>20</td>\n",
       "    </tr>\n",
       "    <tr>\n",
       "      <th>2</th>\n",
       "      <td>Mount Hagen Kagamuga Airport</td>\n",
       "      <td>Mount Hagen</td>\n",
       "      <td>Papua New Guinea</td>\n",
       "      <td>HGU</td>\n",
       "      <td>AYMH</td>\n",
       "      <td>-5.826790</td>\n",
       "      <td>144.296005</td>\n",
       "      <td>5388</td>\n",
       "    </tr>\n",
       "    <tr>\n",
       "      <th>3</th>\n",
       "      <td>Nadzab Airport</td>\n",
       "      <td>Nadzab</td>\n",
       "      <td>Papua New Guinea</td>\n",
       "      <td>LAE</td>\n",
       "      <td>AYNZ</td>\n",
       "      <td>-6.569803</td>\n",
       "      <td>146.725977</td>\n",
       "      <td>239</td>\n",
       "    </tr>\n",
       "    <tr>\n",
       "      <th>4</th>\n",
       "      <td>Port Moresby Jacksons International Airport</td>\n",
       "      <td>Port Moresby</td>\n",
       "      <td>Papua New Guinea</td>\n",
       "      <td>POM</td>\n",
       "      <td>AYPY</td>\n",
       "      <td>-9.443380</td>\n",
       "      <td>147.220001</td>\n",
       "      <td>146</td>\n",
       "    </tr>\n",
       "    <tr>\n",
       "      <th>...</th>\n",
       "      <td>...</td>\n",
       "      <td>...</td>\n",
       "      <td>...</td>\n",
       "      <td>...</td>\n",
       "      <td>...</td>\n",
       "      <td>...</td>\n",
       "      <td>...</td>\n",
       "      <td>...</td>\n",
       "    </tr>\n",
       "    <tr>\n",
       "      <th>7693</th>\n",
       "      <td>Rogachyovo Air Base</td>\n",
       "      <td>Belaya</td>\n",
       "      <td>Russia</td>\n",
       "      <td>NaN</td>\n",
       "      <td>ULDA</td>\n",
       "      <td>71.616699</td>\n",
       "      <td>52.478298</td>\n",
       "      <td>272</td>\n",
       "    </tr>\n",
       "    <tr>\n",
       "      <th>7694</th>\n",
       "      <td>Ulan-Ude East Airport</td>\n",
       "      <td>Ulan Ude</td>\n",
       "      <td>Russia</td>\n",
       "      <td>NaN</td>\n",
       "      <td>XIUW</td>\n",
       "      <td>51.849998</td>\n",
       "      <td>107.737999</td>\n",
       "      <td>1670</td>\n",
       "    </tr>\n",
       "    <tr>\n",
       "      <th>7695</th>\n",
       "      <td>Krechevitsy Air Base</td>\n",
       "      <td>Novgorod</td>\n",
       "      <td>Russia</td>\n",
       "      <td>NaN</td>\n",
       "      <td>ULLK</td>\n",
       "      <td>58.625000</td>\n",
       "      <td>31.385000</td>\n",
       "      <td>85</td>\n",
       "    </tr>\n",
       "    <tr>\n",
       "      <th>7696</th>\n",
       "      <td>Desierto de Atacama Airport</td>\n",
       "      <td>Copiapo</td>\n",
       "      <td>Chile</td>\n",
       "      <td>CPO</td>\n",
       "      <td>SCAT</td>\n",
       "      <td>-27.261200</td>\n",
       "      <td>-70.779198</td>\n",
       "      <td>670</td>\n",
       "    </tr>\n",
       "    <tr>\n",
       "      <th>7697</th>\n",
       "      <td>Melitopol Air Base</td>\n",
       "      <td>Melitopol</td>\n",
       "      <td>Ukraine</td>\n",
       "      <td>NaN</td>\n",
       "      <td>UKDM</td>\n",
       "      <td>46.880001</td>\n",
       "      <td>35.305000</td>\n",
       "      <td>0</td>\n",
       "    </tr>\n",
       "  </tbody>\n",
       "</table>\n",
       "<p>7609 rows × 8 columns</p>\n",
       "</div>"
      ],
      "text/plain": [
       "                                      AirportName          City  \\\n",
       "0                                  Goroka Airport        Goroka   \n",
       "1                                  Madang Airport        Madang   \n",
       "2                    Mount Hagen Kagamuga Airport   Mount Hagen   \n",
       "3                                  Nadzab Airport        Nadzab   \n",
       "4     Port Moresby Jacksons International Airport  Port Moresby   \n",
       "...                                           ...           ...   \n",
       "7693                          Rogachyovo Air Base        Belaya   \n",
       "7694                        Ulan-Ude East Airport      Ulan Ude   \n",
       "7695                         Krechevitsy Air Base      Novgorod   \n",
       "7696                  Desierto de Atacama Airport       Copiapo   \n",
       "7697                           Melitopol Air Base     Melitopol   \n",
       "\n",
       "               Country IATA  ICAO   Latitude   Longitude  Altitude  \n",
       "0     Papua New Guinea  GKA  AYGA  -6.081690  145.391998      5282  \n",
       "1     Papua New Guinea  MAG  AYMD  -5.207080  145.789001        20  \n",
       "2     Papua New Guinea  HGU  AYMH  -5.826790  144.296005      5388  \n",
       "3     Papua New Guinea  LAE  AYNZ  -6.569803  146.725977       239  \n",
       "4     Papua New Guinea  POM  AYPY  -9.443380  147.220001       146  \n",
       "...                ...  ...   ...        ...         ...       ...  \n",
       "7693            Russia  NaN  ULDA  71.616699   52.478298       272  \n",
       "7694            Russia  NaN  XIUW  51.849998  107.737999      1670  \n",
       "7695            Russia  NaN  ULLK  58.625000   31.385000        85  \n",
       "7696             Chile  CPO  SCAT -27.261200  -70.779198       670  \n",
       "7697           Ukraine  NaN  UKDM  46.880001   35.305000         0  \n",
       "\n",
       "[7609 rows x 8 columns]"
      ]
     },
     "execution_count": 3,
     "metadata": {},
     "output_type": "execute_result"
    }
   ],
   "source": [
    "# drop duplicate airports\n",
    "airport_tbl['AirportName_lower'] = airport_tbl['AirportName'].apply(str.lower)\n",
    "\n",
    "airport_tbl.drop_duplicates(subset = \"AirportName_lower\", inplace=True)\n",
    "\n",
    "airport_tbl = airport_tbl[tbl_cols]\n",
    "airport_tbl"
   ]
  },
  {
   "cell_type": "code",
   "execution_count": 4,
   "id": "2e4dd134",
   "metadata": {
    "ExecuteTime": {
     "end_time": "2023-05-25T17:41:18.855942Z",
     "start_time": "2023-05-25T17:41:18.799387Z"
    }
   },
   "outputs": [],
   "source": [
    "airport_tbl.to_csv('/Users/jiashu/Documents/UW_IMT563/Project/data/ETL_Dest/airport_tbl.csv', index = False )"
   ]
  },
  {
   "cell_type": "markdown",
   "id": "c2906cf5",
   "metadata": {},
   "source": [
    "### Airline Table\n",
    "\n",
    "Source: https://openflights.org/data.html"
   ]
  },
  {
   "cell_type": "code",
   "execution_count": 16,
   "id": "8d40f7ad",
   "metadata": {
    "ExecuteTime": {
     "end_time": "2023-05-25T15:09:19.632808Z",
     "start_time": "2023-05-25T15:09:19.588426Z"
    }
   },
   "outputs": [],
   "source": [
    "file_path = '/Users/jiashu/Documents/UW_IMT563/Project/data/ETL_Source/airline_raw.csv'\n",
    "\n",
    "airline_cols = [\"AirlineID\", \"AirlineName\", \"Alias\", \"IATA\", \"ICAO\",\n",
    "               \"Callsign\", \"Country\", \"Active\"]\n",
    "\n",
    "airline_csv = pd.read_csv(file_path, skiprows=[0], names = airline_cols)\n",
    "\n",
    "tbl_cols = [\"AirlineName\", \"Alias\", \"IATA\", \"ICAO\", \"Active\"]\n",
    "\n",
    "airline_tbl = airline_csv[tbl_cols]\n",
    "\n",
    "non_vals = ['\\\\N', 'NaN', '-', 'Unknown']\n",
    "\n",
    "airline_tbl.replace(non_vals, np.nan, inplace = True)\n",
    "\n",
    "notnull_cols = [\"AirlineName\", \"Active\"]\n",
    "\n",
    "airline_tbl.dropna(axis = 0, subset= notnull_cols, inplace  = True)\n",
    "\n",
    "airline_tbl.Active.replace({'Y': 1, 'N': 0, 'n': 0}, inplace= True)\n"
   ]
  },
  {
   "cell_type": "code",
   "execution_count": 20,
   "id": "f06c2901",
   "metadata": {
    "ExecuteTime": {
     "end_time": "2023-05-25T15:09:47.352335Z",
     "start_time": "2023-05-25T15:09:47.324699Z"
    }
   },
   "outputs": [
    {
     "data": {
      "text/html": [
       "<div>\n",
       "<style scoped>\n",
       "    .dataframe tbody tr th:only-of-type {\n",
       "        vertical-align: middle;\n",
       "    }\n",
       "\n",
       "    .dataframe tbody tr th {\n",
       "        vertical-align: top;\n",
       "    }\n",
       "\n",
       "    .dataframe thead th {\n",
       "        text-align: right;\n",
       "    }\n",
       "</style>\n",
       "<table border=\"1\" class=\"dataframe\">\n",
       "  <thead>\n",
       "    <tr style=\"text-align: right;\">\n",
       "      <th></th>\n",
       "      <th>AirlineName</th>\n",
       "      <th>Alias</th>\n",
       "      <th>IATA</th>\n",
       "      <th>ICAO</th>\n",
       "      <th>Active</th>\n",
       "    </tr>\n",
       "  </thead>\n",
       "  <tbody>\n",
       "    <tr>\n",
       "      <th>1</th>\n",
       "      <td>Private flight</td>\n",
       "      <td>NaN</td>\n",
       "      <td>NaN</td>\n",
       "      <td>NaN</td>\n",
       "      <td>1</td>\n",
       "    </tr>\n",
       "    <tr>\n",
       "      <th>2</th>\n",
       "      <td>135 Airways</td>\n",
       "      <td>NaN</td>\n",
       "      <td>NaN</td>\n",
       "      <td>GNL</td>\n",
       "      <td>0</td>\n",
       "    </tr>\n",
       "    <tr>\n",
       "      <th>3</th>\n",
       "      <td>1Time Airline</td>\n",
       "      <td>NaN</td>\n",
       "      <td>1T</td>\n",
       "      <td>RNX</td>\n",
       "      <td>1</td>\n",
       "    </tr>\n",
       "    <tr>\n",
       "      <th>4</th>\n",
       "      <td>2 Sqn No 1 Elementary Flying Training School</td>\n",
       "      <td>NaN</td>\n",
       "      <td>NaN</td>\n",
       "      <td>WYT</td>\n",
       "      <td>0</td>\n",
       "    </tr>\n",
       "    <tr>\n",
       "      <th>5</th>\n",
       "      <td>213 Flight Unit</td>\n",
       "      <td>NaN</td>\n",
       "      <td>NaN</td>\n",
       "      <td>TFU</td>\n",
       "      <td>0</td>\n",
       "    </tr>\n",
       "    <tr>\n",
       "      <th>...</th>\n",
       "      <td>...</td>\n",
       "      <td>...</td>\n",
       "      <td>...</td>\n",
       "      <td>...</td>\n",
       "      <td>...</td>\n",
       "    </tr>\n",
       "    <tr>\n",
       "      <th>6157</th>\n",
       "      <td>GX Airlines</td>\n",
       "      <td>NaN</td>\n",
       "      <td>NaN</td>\n",
       "      <td>CBG</td>\n",
       "      <td>1</td>\n",
       "    </tr>\n",
       "    <tr>\n",
       "      <th>6158</th>\n",
       "      <td>Lynx Aviation (L3/SSX)</td>\n",
       "      <td>NaN</td>\n",
       "      <td>NaN</td>\n",
       "      <td>SSX</td>\n",
       "      <td>0</td>\n",
       "    </tr>\n",
       "    <tr>\n",
       "      <th>6159</th>\n",
       "      <td>Jetgo Australia</td>\n",
       "      <td>NaN</td>\n",
       "      <td>JG</td>\n",
       "      <td>NaN</td>\n",
       "      <td>1</td>\n",
       "    </tr>\n",
       "    <tr>\n",
       "      <th>6160</th>\n",
       "      <td>Air Carnival</td>\n",
       "      <td>NaN</td>\n",
       "      <td>2S</td>\n",
       "      <td>NaN</td>\n",
       "      <td>1</td>\n",
       "    </tr>\n",
       "    <tr>\n",
       "      <th>6161</th>\n",
       "      <td>Svyaz Rossiya</td>\n",
       "      <td>Russian Commuter</td>\n",
       "      <td>7R</td>\n",
       "      <td>SJM</td>\n",
       "      <td>1</td>\n",
       "    </tr>\n",
       "  </tbody>\n",
       "</table>\n",
       "<p>6070 rows × 5 columns</p>\n",
       "</div>"
      ],
      "text/plain": [
       "                                       AirlineName              Alias IATA  \\\n",
       "1                                   Private flight                NaN  NaN   \n",
       "2                                      135 Airways                NaN  NaN   \n",
       "3                                    1Time Airline                NaN   1T   \n",
       "4     2 Sqn No 1 Elementary Flying Training School                NaN  NaN   \n",
       "5                                  213 Flight Unit                NaN  NaN   \n",
       "...                                            ...                ...  ...   \n",
       "6157                                   GX Airlines                NaN  NaN   \n",
       "6158                        Lynx Aviation (L3/SSX)                NaN  NaN   \n",
       "6159                               Jetgo Australia                NaN   JG   \n",
       "6160                                  Air Carnival                NaN   2S   \n",
       "6161                                 Svyaz Rossiya  Russian Commuter    7R   \n",
       "\n",
       "     ICAO  Active  \n",
       "1     NaN       1  \n",
       "2     GNL       0  \n",
       "3     RNX       1  \n",
       "4     WYT       0  \n",
       "5     TFU       0  \n",
       "...   ...     ...  \n",
       "6157  CBG       1  \n",
       "6158  SSX       0  \n",
       "6159  NaN       1  \n",
       "6160  NaN       1  \n",
       "6161  SJM       1  \n",
       "\n",
       "[6070 rows x 5 columns]"
      ]
     },
     "execution_count": 20,
     "metadata": {},
     "output_type": "execute_result"
    }
   ],
   "source": [
    "# drop duplicate airports\n",
    "airline_tbl['AirlineName_lower'] = airline_tbl['AirlineName'].apply(str.lower)\n",
    "\n",
    "airline_tbl.drop_duplicates(subset = 'AirlineName_lower', inplace=True)\n",
    "\n",
    "airline_tbl = airline_tbl[tbl_cols]\n",
    "airline_tbl"
   ]
  },
  {
   "cell_type": "code",
   "execution_count": 21,
   "id": "f230859a",
   "metadata": {
    "ExecuteTime": {
     "end_time": "2023-05-25T15:09:49.148245Z",
     "start_time": "2023-05-25T15:09:49.142713Z"
    }
   },
   "outputs": [
    {
     "data": {
      "text/plain": [
       "6070"
      ]
     },
     "execution_count": 21,
     "metadata": {},
     "output_type": "execute_result"
    }
   ],
   "source": [
    "len(airline_tbl)"
   ]
  },
  {
   "cell_type": "code",
   "execution_count": 22,
   "id": "6d52d15a",
   "metadata": {
    "ExecuteTime": {
     "end_time": "2023-05-25T15:10:28.766075Z",
     "start_time": "2023-05-25T15:10:28.737302Z"
    }
   },
   "outputs": [],
   "source": [
    "airline_tbl.to_csv(\"/Users/jiashu/Documents/UW_IMT563/Project/data/ETL_Dest/airline_tbl.csv\", index = False )"
   ]
  },
  {
   "cell_type": "markdown",
   "id": "1b124815",
   "metadata": {},
   "source": [
    "### Route Table\n",
    "\n",
    "Source: https://openflights.org/data.html"
   ]
  },
  {
   "cell_type": "code",
   "execution_count": 23,
   "id": "6e9249c5",
   "metadata": {
    "ExecuteTime": {
     "end_time": "2023-05-25T15:11:44.232503Z",
     "start_time": "2023-05-25T15:11:44.074932Z"
    }
   },
   "outputs": [
    {
     "data": {
      "text/plain": [
       "67645"
      ]
     },
     "execution_count": 23,
     "metadata": {},
     "output_type": "execute_result"
    }
   ],
   "source": [
    "file_path = '/Users/jiashu/Documents/UW_IMT563/Project/data/ETL_Source/route_raw.csv'\n",
    "\n",
    "route_cols = [\"AirlineIATA\", \"AirlineID\", \"OriginAirportIATA\", \"OriginAirportID\",\n",
    "             \"DestinationAirportIATA\", \"DestinationAirportID\", \"Codeshare\",\n",
    "             \"Stops\", \"AirCraft\"]\n",
    "\n",
    "route_csv = pd.read_csv(file_path, skiprows = [0], names = route_cols)\n",
    "\n",
    "tbl_cols = [\"AirlineIATA\", \"OriginAirportIATA\", \n",
    "            \"DestinationAirportIATA\",\n",
    "            \"Stops\", \"AirCraft\"]\n",
    "\n",
    "route_tbl = route_csv[tbl_cols]\n",
    "\n",
    "non_vals = ['\\\\N', 'NaN', '-', 'Unknown']\n",
    "\n",
    "route_tbl.replace(non_vals, np.nan, inplace = True)\n",
    "\n",
    "notnull_cols = [\"AirlineIATA\", \"OriginAirportIATA\", \n",
    "                \"DestinationAirportIATA\",\n",
    "            \"Stops\", \"AirCraft\"]\n",
    "\n",
    "route_tbl.dropna(axis = 0, subset= notnull_cols, inplace  = True)\n",
    "\n",
    "def select_first(s):\n",
    "    return s.split(' ')[0]\n",
    "\n",
    "route_tbl.AirCraft = route_tbl.AirCraft.apply(select_first)\n",
    "\n",
    "len(route_tbl)"
   ]
  },
  {
   "cell_type": "code",
   "execution_count": 24,
   "id": "5351a5b1",
   "metadata": {
    "ExecuteTime": {
     "end_time": "2023-05-25T15:13:43.279955Z",
     "start_time": "2023-05-25T15:13:43.212902Z"
    }
   },
   "outputs": [
    {
     "data": {
      "text/plain": [
       "67645"
      ]
     },
     "execution_count": 24,
     "metadata": {},
     "output_type": "execute_result"
    }
   ],
   "source": [
    "# drop duplicate airline\n",
    "route_tbl['AirlineIATA_lower'] = route_tbl[\"AirlineIATA\"].apply(str.lower)\n",
    "route_tbl['OriginAirportIATA_lower'] = route_tbl[\"OriginAirportIATA\"].apply(str.lower)\n",
    "route_tbl['DestinationAirportIATA_lower'] = route_tbl[\"DestinationAirportIATA\"].apply(str.lower)\n",
    "\n",
    "route_tbl.drop_duplicates(subset = ['AirlineIATA_lower', \n",
    "                                      'OriginAirportIATA_lower', \n",
    "                                      'DestinationAirportIATA_lower'], inplace=True)\n",
    "\n",
    "route_tbl = route_tbl[tbl_cols]\n",
    "len(route_tbl)"
   ]
  },
  {
   "cell_type": "code",
   "execution_count": 25,
   "id": "2d266d17",
   "metadata": {
    "ExecuteTime": {
     "end_time": "2023-05-25T15:13:49.597414Z",
     "start_time": "2023-05-25T15:13:49.578911Z"
    }
   },
   "outputs": [
    {
     "data": {
      "text/html": [
       "<div>\n",
       "<style scoped>\n",
       "    .dataframe tbody tr th:only-of-type {\n",
       "        vertical-align: middle;\n",
       "    }\n",
       "\n",
       "    .dataframe tbody tr th {\n",
       "        vertical-align: top;\n",
       "    }\n",
       "\n",
       "    .dataframe thead th {\n",
       "        text-align: right;\n",
       "    }\n",
       "</style>\n",
       "<table border=\"1\" class=\"dataframe\">\n",
       "  <thead>\n",
       "    <tr style=\"text-align: right;\">\n",
       "      <th></th>\n",
       "      <th>AirlineIATA</th>\n",
       "      <th>OriginAirportIATA</th>\n",
       "      <th>DestinationAirportIATA</th>\n",
       "      <th>Stops</th>\n",
       "      <th>AirCraft</th>\n",
       "    </tr>\n",
       "  </thead>\n",
       "  <tbody>\n",
       "    <tr>\n",
       "      <th>0</th>\n",
       "      <td>2B</td>\n",
       "      <td>AER</td>\n",
       "      <td>KZN</td>\n",
       "      <td>0</td>\n",
       "      <td>CR2</td>\n",
       "    </tr>\n",
       "    <tr>\n",
       "      <th>1</th>\n",
       "      <td>2B</td>\n",
       "      <td>ASF</td>\n",
       "      <td>KZN</td>\n",
       "      <td>0</td>\n",
       "      <td>CR2</td>\n",
       "    </tr>\n",
       "    <tr>\n",
       "      <th>2</th>\n",
       "      <td>2B</td>\n",
       "      <td>ASF</td>\n",
       "      <td>MRV</td>\n",
       "      <td>0</td>\n",
       "      <td>CR2</td>\n",
       "    </tr>\n",
       "    <tr>\n",
       "      <th>3</th>\n",
       "      <td>2B</td>\n",
       "      <td>CEK</td>\n",
       "      <td>KZN</td>\n",
       "      <td>0</td>\n",
       "      <td>CR2</td>\n",
       "    </tr>\n",
       "    <tr>\n",
       "      <th>4</th>\n",
       "      <td>2B</td>\n",
       "      <td>CEK</td>\n",
       "      <td>OVB</td>\n",
       "      <td>0</td>\n",
       "      <td>CR2</td>\n",
       "    </tr>\n",
       "    <tr>\n",
       "      <th>...</th>\n",
       "      <td>...</td>\n",
       "      <td>...</td>\n",
       "      <td>...</td>\n",
       "      <td>...</td>\n",
       "      <td>...</td>\n",
       "    </tr>\n",
       "    <tr>\n",
       "      <th>67658</th>\n",
       "      <td>ZL</td>\n",
       "      <td>WYA</td>\n",
       "      <td>ADL</td>\n",
       "      <td>0</td>\n",
       "      <td>SF3</td>\n",
       "    </tr>\n",
       "    <tr>\n",
       "      <th>67659</th>\n",
       "      <td>ZM</td>\n",
       "      <td>DME</td>\n",
       "      <td>FRU</td>\n",
       "      <td>0</td>\n",
       "      <td>734</td>\n",
       "    </tr>\n",
       "    <tr>\n",
       "      <th>67660</th>\n",
       "      <td>ZM</td>\n",
       "      <td>FRU</td>\n",
       "      <td>DME</td>\n",
       "      <td>0</td>\n",
       "      <td>734</td>\n",
       "    </tr>\n",
       "    <tr>\n",
       "      <th>67661</th>\n",
       "      <td>ZM</td>\n",
       "      <td>FRU</td>\n",
       "      <td>OSS</td>\n",
       "      <td>0</td>\n",
       "      <td>734</td>\n",
       "    </tr>\n",
       "    <tr>\n",
       "      <th>67662</th>\n",
       "      <td>ZM</td>\n",
       "      <td>OSS</td>\n",
       "      <td>FRU</td>\n",
       "      <td>0</td>\n",
       "      <td>734</td>\n",
       "    </tr>\n",
       "  </tbody>\n",
       "</table>\n",
       "<p>67645 rows × 5 columns</p>\n",
       "</div>"
      ],
      "text/plain": [
       "      AirlineIATA OriginAirportIATA DestinationAirportIATA  Stops AirCraft\n",
       "0              2B               AER                    KZN      0      CR2\n",
       "1              2B               ASF                    KZN      0      CR2\n",
       "2              2B               ASF                    MRV      0      CR2\n",
       "3              2B               CEK                    KZN      0      CR2\n",
       "4              2B               CEK                    OVB      0      CR2\n",
       "...           ...               ...                    ...    ...      ...\n",
       "67658          ZL               WYA                    ADL      0      SF3\n",
       "67659          ZM               DME                    FRU      0      734\n",
       "67660          ZM               FRU                    DME      0      734\n",
       "67661          ZM               FRU                    OSS      0      734\n",
       "67662          ZM               OSS                    FRU      0      734\n",
       "\n",
       "[67645 rows x 5 columns]"
      ]
     },
     "execution_count": 25,
     "metadata": {},
     "output_type": "execute_result"
    }
   ],
   "source": [
    "route_tbl"
   ]
  },
  {
   "cell_type": "code",
   "execution_count": 26,
   "id": "d51da20e",
   "metadata": {
    "ExecuteTime": {
     "end_time": "2023-05-25T15:14:01.817701Z",
     "start_time": "2023-05-25T15:14:01.709812Z"
    }
   },
   "outputs": [],
   "source": [
    "route_tbl.to_csv(\"/Users/jiashu/Documents/UW_IMT563/Project/data/ETL_Dest/route_tbl.csv\", index = False )"
   ]
  },
  {
   "cell_type": "markdown",
   "id": "42c430cd",
   "metadata": {},
   "source": [
    "### Plane Table\n",
    "\n",
    "Source: https://openflights.org/data.html"
   ]
  },
  {
   "cell_type": "code",
   "execution_count": 27,
   "id": "0e966e39",
   "metadata": {
    "ExecuteTime": {
     "end_time": "2023-05-25T15:15:12.514019Z",
     "start_time": "2023-05-25T15:15:12.492736Z"
    }
   },
   "outputs": [],
   "source": [
    "file_path = '/Users/jiashu/Documents/UW_IMT563/Project/data/ETL_Source/plane_raw.csv'\n",
    "\n",
    "plane_cols = [\"PlaneName\", \"IATA\", \"ICAO\"]\n",
    "\n",
    "plane_csv = pd.read_csv(file_path, skiprows=[0], names = plane_cols)\n",
    "\n",
    "tbl_cols = ['PlaneName', \"IATA\", \"ICAO\"]\n",
    "\n",
    "plane_tbl = plane_csv[tbl_cols]\n",
    "\n",
    "non_vals = ['\\\\N', 'NaN', '-', 'Unknown']\n",
    "\n",
    "plane_tbl.replace(non_vals, np.nan, inplace = True)\n",
    "\n",
    "notnull_cols = [\"PlaneName\", \"IATA\", \"ICAO\"]\n",
    "\n",
    "plane_tbl.dropna(axis = 0, subset= notnull_cols, inplace  = True)"
   ]
  },
  {
   "cell_type": "code",
   "execution_count": 29,
   "id": "38345bd5",
   "metadata": {
    "ExecuteTime": {
     "end_time": "2023-05-25T15:15:29.140056Z",
     "start_time": "2023-05-25T15:15:29.123522Z"
    }
   },
   "outputs": [
    {
     "data": {
      "text/plain": [
       "220"
      ]
     },
     "execution_count": 29,
     "metadata": {},
     "output_type": "execute_result"
    }
   ],
   "source": [
    "# drop duplicate plane\n",
    "plane_tbl['PlaneName_lower'] = plane_tbl['PlaneName'].apply(str.lower)\n",
    "\n",
    "plane_tbl.drop_duplicates(subset = 'PlaneName_lower', inplace=True)\n",
    "\n",
    "plane_tbl = plane_tbl[tbl_cols]\n",
    "len(plane_tbl)"
   ]
  },
  {
   "cell_type": "code",
   "execution_count": 30,
   "id": "b5bd5075",
   "metadata": {
    "ExecuteTime": {
     "end_time": "2023-05-25T15:15:32.635211Z",
     "start_time": "2023-05-25T15:15:32.625224Z"
    }
   },
   "outputs": [],
   "source": [
    "plane_tbl.to_csv(\"/Users/jiashu/Documents/UW_IMT563/Project/data/ETL_Dest/plane_tbl.csv\", index = False)"
   ]
  },
  {
   "cell_type": "markdown",
   "id": "92865ca1",
   "metadata": {},
   "source": [
    "### Country Table\n",
    "\n",
    "Source: https://openflights.org/data.html"
   ]
  },
  {
   "cell_type": "code",
   "execution_count": 31,
   "id": "7809a663",
   "metadata": {
    "ExecuteTime": {
     "end_time": "2023-05-25T15:17:12.938492Z",
     "start_time": "2023-05-25T15:17:12.916490Z"
    }
   },
   "outputs": [
    {
     "data": {
      "text/plain": [
       "241"
      ]
     },
     "execution_count": 31,
     "metadata": {},
     "output_type": "execute_result"
    }
   ],
   "source": [
    "file_path = '/Users/jiashu/Documents/UW_IMT563/Project/data/ETL_Source/country_raw.csv'\n",
    "\n",
    "country_cols = [\"CountryName\", \"IsoCode\", \"DafifCode\"]\n",
    "\n",
    "country_csv = pd.read_csv(file_path, skiprows=[0], names = country_cols)\n",
    "\n",
    "tbl_cols = [\"CountryName\", \"IsoCode\"]\n",
    "\n",
    "country_tbl = country_csv[tbl_cols]\n",
    "\n",
    "non_vals = ['\\\\N', 'NaN', '-', 'Unknown']\n",
    "\n",
    "country_tbl.replace(non_vals, np.nan, inplace = True)\n",
    "\n",
    "notnull_cols = [\"CountryName\", \"IsoCode\"]\n",
    "\n",
    "country_tbl.dropna(axis = 0, subset= notnull_cols, inplace  = True)\n",
    "\n",
    "len(country_tbl)"
   ]
  },
  {
   "cell_type": "code",
   "execution_count": 36,
   "id": "9fb5511c",
   "metadata": {
    "ExecuteTime": {
     "end_time": "2023-05-25T15:17:34.645687Z",
     "start_time": "2023-05-25T15:17:34.629880Z"
    }
   },
   "outputs": [
    {
     "data": {
      "text/plain": [
       "239"
      ]
     },
     "execution_count": 36,
     "metadata": {},
     "output_type": "execute_result"
    }
   ],
   "source": [
    "# drop duplicate country\n",
    "country_tbl['CountryName_lower'] =country_tbl['CountryName'].apply(str.lower)\n",
    "\n",
    "country_tbl.drop_duplicates(subset = 'CountryName_lower', inplace=True)\n",
    "\n",
    "country_tbl = country_tbl[tbl_cols]\n",
    "len(country_tbl)"
   ]
  },
  {
   "cell_type": "code",
   "execution_count": 37,
   "id": "d809286b",
   "metadata": {
    "ExecuteTime": {
     "end_time": "2023-05-25T15:17:37.221254Z",
     "start_time": "2023-05-25T15:17:37.203529Z"
    }
   },
   "outputs": [
    {
     "data": {
      "text/html": [
       "<div>\n",
       "<style scoped>\n",
       "    .dataframe tbody tr th:only-of-type {\n",
       "        vertical-align: middle;\n",
       "    }\n",
       "\n",
       "    .dataframe tbody tr th {\n",
       "        vertical-align: top;\n",
       "    }\n",
       "\n",
       "    .dataframe thead th {\n",
       "        text-align: right;\n",
       "    }\n",
       "</style>\n",
       "<table border=\"1\" class=\"dataframe\">\n",
       "  <thead>\n",
       "    <tr style=\"text-align: right;\">\n",
       "      <th></th>\n",
       "      <th>CountryName</th>\n",
       "      <th>IsoCode</th>\n",
       "    </tr>\n",
       "  </thead>\n",
       "  <tbody>\n",
       "    <tr>\n",
       "      <th>0</th>\n",
       "      <td>Bonaire, Saint Eustatius and Saba</td>\n",
       "      <td>BQ</td>\n",
       "    </tr>\n",
       "    <tr>\n",
       "      <th>1</th>\n",
       "      <td>Aruba</td>\n",
       "      <td>AW</td>\n",
       "    </tr>\n",
       "    <tr>\n",
       "      <th>2</th>\n",
       "      <td>Antigua and Barbuda</td>\n",
       "      <td>AG</td>\n",
       "    </tr>\n",
       "    <tr>\n",
       "      <th>3</th>\n",
       "      <td>United Arab Emirates</td>\n",
       "      <td>AE</td>\n",
       "    </tr>\n",
       "    <tr>\n",
       "      <th>4</th>\n",
       "      <td>Afghanistan</td>\n",
       "      <td>AF</td>\n",
       "    </tr>\n",
       "    <tr>\n",
       "      <th>...</th>\n",
       "      <td>...</td>\n",
       "      <td>...</td>\n",
       "    </tr>\n",
       "    <tr>\n",
       "      <th>256</th>\n",
       "      <td>Samoa</td>\n",
       "      <td>WS</td>\n",
       "    </tr>\n",
       "    <tr>\n",
       "      <th>257</th>\n",
       "      <td>Eswatini</td>\n",
       "      <td>SZ</td>\n",
       "    </tr>\n",
       "    <tr>\n",
       "      <th>258</th>\n",
       "      <td>Yemen</td>\n",
       "      <td>YE</td>\n",
       "    </tr>\n",
       "    <tr>\n",
       "      <th>259</th>\n",
       "      <td>Zambia</td>\n",
       "      <td>ZM</td>\n",
       "    </tr>\n",
       "    <tr>\n",
       "      <th>260</th>\n",
       "      <td>Zimbabwe</td>\n",
       "      <td>ZW</td>\n",
       "    </tr>\n",
       "  </tbody>\n",
       "</table>\n",
       "<p>239 rows × 2 columns</p>\n",
       "</div>"
      ],
      "text/plain": [
       "                           CountryName IsoCode\n",
       "0    Bonaire, Saint Eustatius and Saba      BQ\n",
       "1                                Aruba      AW\n",
       "2                  Antigua and Barbuda      AG\n",
       "3                 United Arab Emirates      AE\n",
       "4                          Afghanistan      AF\n",
       "..                                 ...     ...\n",
       "256                              Samoa      WS\n",
       "257                           Eswatini      SZ\n",
       "258                              Yemen      YE\n",
       "259                             Zambia      ZM\n",
       "260                           Zimbabwe      ZW\n",
       "\n",
       "[239 rows x 2 columns]"
      ]
     },
     "execution_count": 37,
     "metadata": {},
     "output_type": "execute_result"
    }
   ],
   "source": [
    "country_tbl"
   ]
  },
  {
   "cell_type": "code",
   "execution_count": 38,
   "id": "36b3712a",
   "metadata": {
    "ExecuteTime": {
     "end_time": "2023-05-25T15:17:58.130477Z",
     "start_time": "2023-05-25T15:17:58.122771Z"
    }
   },
   "outputs": [],
   "source": [
    "country_tbl.to_csv(\"/Users/jiashu/Documents/UW_IMT563/Project/data/ETL_Dest/country_tbl.csv\", index = False)"
   ]
  },
  {
   "cell_type": "markdown",
   "id": "1ed5944d",
   "metadata": {},
   "source": [
    "### City Table\n",
    "\n",
    "Source: https://openflights.org/data.html"
   ]
  },
  {
   "cell_type": "code",
   "execution_count": 40,
   "id": "f7276230",
   "metadata": {
    "ExecuteTime": {
     "end_time": "2023-05-25T15:20:07.049353Z",
     "start_time": "2023-05-25T15:20:07.005052Z"
    }
   },
   "outputs": [
    {
     "data": {
      "text/plain": [
       "7649"
      ]
     },
     "execution_count": 40,
     "metadata": {},
     "output_type": "execute_result"
    }
   ],
   "source": [
    "file_path = '/Users/jiashu/Documents/UW_IMT563/Project/data/ETL_Source/airport_raw.csv'\n",
    "\n",
    "airport_cols = [\"AirportID\", \"AirportName\", \"CityName\", \"CountryName\", \"IATA\", \"ICAO\", \n",
    "                \"Latitude\", \"Longitude\", \"Altitude\", \"TimezoneOffset\", \"DST\",\n",
    "               \"TimeZone\", \"Type\", \"Source\"]\n",
    "\n",
    "airport_csv = pd.read_csv(file_path, skiprows=[0], names = airport_cols)\n",
    "\n",
    "tbl_cols = [\"CityName\", \"CountryName\"]\n",
    "\n",
    "city_tbl = airport_csv[tbl_cols]\n",
    "\n",
    "non_vals = ['\\\\N', 'NaN', '-', 'Unknown']\n",
    "\n",
    "city_tbl.replace(non_vals, np.nan, inplace = True)\n",
    "\n",
    "notnull_cols = [\"CityName\", \"CountryName\"]\n",
    "\n",
    "city_tbl.dropna(axis = 0, subset= notnull_cols, inplace  = True)\n",
    "\n",
    "len(city_tbl)"
   ]
  },
  {
   "cell_type": "code",
   "execution_count": 41,
   "id": "1d184a64",
   "metadata": {
    "ExecuteTime": {
     "end_time": "2023-05-25T15:20:07.751094Z",
     "start_time": "2023-05-25T15:20:07.726516Z"
    }
   },
   "outputs": [
    {
     "data": {
      "text/plain": [
       "7088"
      ]
     },
     "execution_count": 41,
     "metadata": {},
     "output_type": "execute_result"
    }
   ],
   "source": [
    "city_tbl['CityName_lower'] =city_tbl['CityName'].apply(str.lower)\n",
    "city_tbl['CountryName_lower'] =city_tbl['CountryName'].apply(str.lower)\n",
    "\n",
    "city_tbl.drop_duplicates(subset = [\"CityName_lower\", \"CountryName_lower\"], inplace=True)\n",
    "\n",
    "city_tbl = city_tbl[tbl_cols]\n",
    "len(city_tbl)"
   ]
  },
  {
   "cell_type": "code",
   "execution_count": 42,
   "id": "423cb1f1",
   "metadata": {
    "ExecuteTime": {
     "end_time": "2023-05-25T15:20:12.877884Z",
     "start_time": "2023-05-25T15:20:12.861483Z"
    }
   },
   "outputs": [
    {
     "data": {
      "text/html": [
       "<div>\n",
       "<style scoped>\n",
       "    .dataframe tbody tr th:only-of-type {\n",
       "        vertical-align: middle;\n",
       "    }\n",
       "\n",
       "    .dataframe tbody tr th {\n",
       "        vertical-align: top;\n",
       "    }\n",
       "\n",
       "    .dataframe thead th {\n",
       "        text-align: right;\n",
       "    }\n",
       "</style>\n",
       "<table border=\"1\" class=\"dataframe\">\n",
       "  <thead>\n",
       "    <tr style=\"text-align: right;\">\n",
       "      <th></th>\n",
       "      <th>CityName</th>\n",
       "      <th>CountryName</th>\n",
       "    </tr>\n",
       "  </thead>\n",
       "  <tbody>\n",
       "    <tr>\n",
       "      <th>0</th>\n",
       "      <td>Goroka</td>\n",
       "      <td>Papua New Guinea</td>\n",
       "    </tr>\n",
       "    <tr>\n",
       "      <th>1</th>\n",
       "      <td>Madang</td>\n",
       "      <td>Papua New Guinea</td>\n",
       "    </tr>\n",
       "    <tr>\n",
       "      <th>2</th>\n",
       "      <td>Mount Hagen</td>\n",
       "      <td>Papua New Guinea</td>\n",
       "    </tr>\n",
       "    <tr>\n",
       "      <th>3</th>\n",
       "      <td>Nadzab</td>\n",
       "      <td>Papua New Guinea</td>\n",
       "    </tr>\n",
       "    <tr>\n",
       "      <th>4</th>\n",
       "      <td>Port Moresby</td>\n",
       "      <td>Papua New Guinea</td>\n",
       "    </tr>\n",
       "    <tr>\n",
       "      <th>...</th>\n",
       "      <td>...</td>\n",
       "      <td>...</td>\n",
       "    </tr>\n",
       "    <tr>\n",
       "      <th>7692</th>\n",
       "      <td>Kubinka</td>\n",
       "      <td>Russia</td>\n",
       "    </tr>\n",
       "    <tr>\n",
       "      <th>7693</th>\n",
       "      <td>Belaya</td>\n",
       "      <td>Russia</td>\n",
       "    </tr>\n",
       "    <tr>\n",
       "      <th>7694</th>\n",
       "      <td>Ulan Ude</td>\n",
       "      <td>Russia</td>\n",
       "    </tr>\n",
       "    <tr>\n",
       "      <th>7695</th>\n",
       "      <td>Novgorod</td>\n",
       "      <td>Russia</td>\n",
       "    </tr>\n",
       "    <tr>\n",
       "      <th>7697</th>\n",
       "      <td>Melitopol</td>\n",
       "      <td>Ukraine</td>\n",
       "    </tr>\n",
       "  </tbody>\n",
       "</table>\n",
       "<p>7088 rows × 2 columns</p>\n",
       "</div>"
      ],
      "text/plain": [
       "          CityName       CountryName\n",
       "0           Goroka  Papua New Guinea\n",
       "1           Madang  Papua New Guinea\n",
       "2      Mount Hagen  Papua New Guinea\n",
       "3           Nadzab  Papua New Guinea\n",
       "4     Port Moresby  Papua New Guinea\n",
       "...            ...               ...\n",
       "7692       Kubinka            Russia\n",
       "7693        Belaya            Russia\n",
       "7694      Ulan Ude            Russia\n",
       "7695      Novgorod            Russia\n",
       "7697     Melitopol           Ukraine\n",
       "\n",
       "[7088 rows x 2 columns]"
      ]
     },
     "execution_count": 42,
     "metadata": {},
     "output_type": "execute_result"
    }
   ],
   "source": [
    "city_tbl"
   ]
  },
  {
   "cell_type": "code",
   "execution_count": 43,
   "id": "81135c3f",
   "metadata": {
    "ExecuteTime": {
     "end_time": "2023-05-25T15:20:14.992489Z",
     "start_time": "2023-05-25T15:20:14.967030Z"
    }
   },
   "outputs": [],
   "source": [
    "city_tbl.to_csv(\"/Users/jiashu/Documents/UW_IMT563/Project/data/ETL_Dest/city_tbl.csv\", index = False)"
   ]
  },
  {
   "cell_type": "markdown",
   "id": "063cc3e9",
   "metadata": {},
   "source": [
    "### User Table\n",
    "\n",
    "Source: Self-Generated"
   ]
  },
  {
   "cell_type": "markdown",
   "id": "9b6a6cb6",
   "metadata": {},
   "source": [
    "### Rating Table\n",
    "\n",
    "Source: https://www.kaggle.com/code/titassaha/airline-customer-satisfaction-efa-glm-visuals/input?select=train.csv"
   ]
  },
  {
   "cell_type": "code",
   "execution_count": 15,
   "id": "c0ce3af1",
   "metadata": {
    "ExecuteTime": {
     "end_time": "2023-05-25T04:51:37.769802Z",
     "start_time": "2023-05-25T04:51:37.763789Z"
    }
   },
   "outputs": [],
   "source": [
    "import random"
   ]
  },
  {
   "cell_type": "code",
   "execution_count": 17,
   "id": "c8e3e4a2",
   "metadata": {
    "ExecuteTime": {
     "end_time": "2023-05-25T04:51:54.026014Z",
     "start_time": "2023-05-25T04:51:53.942815Z"
    }
   },
   "outputs": [],
   "source": [
    "file_path = '/Users/jiashu/Documents/UW_IMT563/Project/data/ETL_Source/rating_raw.csv'\n",
    "\n",
    "rating_cols = ['id', 'Gender', 'Customer Type', 'Age', 'Type of Travel', 'Class',\n",
    "       'Flight Distance', 'WifiService',\n",
    "       'DepArrTimeConvenience', 'EaseofOnlineBooking',\n",
    "       'GateLocation', 'FoodDrink', 'EaseofOnlineBoarding', 'SeatComfort',\n",
    "       'InflightEntertainment', 'OnboardService', 'LegroomService',\n",
    "       'BaggageHandling', 'CheckinService', 'InflightService',\n",
    "       'Cleanliness', 'Departure Delay in Minutes', 'Arrival Delay in Minutes',\n",
    "       'Satisfaction']\n",
    "\n",
    "rating_csv = pd.read_csv(file_path, skiprows=[0], names = rating_cols)\n",
    "\n",
    "tbl_cols = ['WifiService',\n",
    "       'DepArrTimeConvenience', 'EaseofOnlineBooking',\n",
    "       'GateLocation', 'FoodDrink', 'EaseofOnlineBoarding', 'SeatComfort',\n",
    "       'InflightEntertainment', 'OnboardService', 'LegroomService',\n",
    "       'BaggageHandling', 'CheckinService', 'InflightService',\n",
    "       'Cleanliness',\n",
    "       'Satisfaction']\n",
    "\n",
    "rating_tbl = rating_csv[tbl_cols]\n",
    "\n",
    "rating_tbl.Satisfaction.replace({'satisfied': 1, \n",
    "                                'neutral or dissatisfied':0}, inplace= True )\n",
    "\n",
    "ids = random.sample(range(1, rating_tbl.shape[0]+1), rating_tbl.shape[0])\n",
    "rating_tbl['FlightID'] = ids "
   ]
  },
  {
   "cell_type": "code",
   "execution_count": 19,
   "id": "2e5dcbcf",
   "metadata": {
    "ExecuteTime": {
     "end_time": "2023-05-25T04:51:58.878457Z",
     "start_time": "2023-05-25T04:51:58.853716Z"
    }
   },
   "outputs": [
    {
     "data": {
      "text/html": [
       "<div>\n",
       "<style scoped>\n",
       "    .dataframe tbody tr th:only-of-type {\n",
       "        vertical-align: middle;\n",
       "    }\n",
       "\n",
       "    .dataframe tbody tr th {\n",
       "        vertical-align: top;\n",
       "    }\n",
       "\n",
       "    .dataframe thead th {\n",
       "        text-align: right;\n",
       "    }\n",
       "</style>\n",
       "<table border=\"1\" class=\"dataframe\">\n",
       "  <thead>\n",
       "    <tr style=\"text-align: right;\">\n",
       "      <th></th>\n",
       "      <th>WifiService</th>\n",
       "      <th>DepArrTimeConvenience</th>\n",
       "      <th>EaseofOnlineBooking</th>\n",
       "      <th>GateLocation</th>\n",
       "      <th>FoodDrink</th>\n",
       "      <th>EaseofOnlineBoarding</th>\n",
       "      <th>SeatComfort</th>\n",
       "      <th>InflightEntertainment</th>\n",
       "      <th>OnboardService</th>\n",
       "      <th>LegroomService</th>\n",
       "      <th>BaggageHandling</th>\n",
       "      <th>CheckinService</th>\n",
       "      <th>InflightService</th>\n",
       "      <th>Cleanliness</th>\n",
       "      <th>Satisfaction</th>\n",
       "      <th>FlightID</th>\n",
       "    </tr>\n",
       "  </thead>\n",
       "  <tbody>\n",
       "    <tr>\n",
       "      <th>0</th>\n",
       "      <td>5</td>\n",
       "      <td>4</td>\n",
       "      <td>3</td>\n",
       "      <td>4</td>\n",
       "      <td>3</td>\n",
       "      <td>4</td>\n",
       "      <td>3</td>\n",
       "      <td>5</td>\n",
       "      <td>5</td>\n",
       "      <td>5</td>\n",
       "      <td>5</td>\n",
       "      <td>2</td>\n",
       "      <td>5</td>\n",
       "      <td>5</td>\n",
       "      <td>1</td>\n",
       "      <td>19241</td>\n",
       "    </tr>\n",
       "    <tr>\n",
       "      <th>1</th>\n",
       "      <td>1</td>\n",
       "      <td>1</td>\n",
       "      <td>3</td>\n",
       "      <td>1</td>\n",
       "      <td>5</td>\n",
       "      <td>4</td>\n",
       "      <td>5</td>\n",
       "      <td>4</td>\n",
       "      <td>4</td>\n",
       "      <td>4</td>\n",
       "      <td>4</td>\n",
       "      <td>3</td>\n",
       "      <td>4</td>\n",
       "      <td>5</td>\n",
       "      <td>1</td>\n",
       "      <td>12983</td>\n",
       "    </tr>\n",
       "    <tr>\n",
       "      <th>2</th>\n",
       "      <td>2</td>\n",
       "      <td>0</td>\n",
       "      <td>2</td>\n",
       "      <td>4</td>\n",
       "      <td>2</td>\n",
       "      <td>2</td>\n",
       "      <td>2</td>\n",
       "      <td>2</td>\n",
       "      <td>4</td>\n",
       "      <td>1</td>\n",
       "      <td>3</td>\n",
       "      <td>2</td>\n",
       "      <td>2</td>\n",
       "      <td>2</td>\n",
       "      <td>0</td>\n",
       "      <td>3706</td>\n",
       "    </tr>\n",
       "    <tr>\n",
       "      <th>3</th>\n",
       "      <td>0</td>\n",
       "      <td>0</td>\n",
       "      <td>0</td>\n",
       "      <td>2</td>\n",
       "      <td>3</td>\n",
       "      <td>4</td>\n",
       "      <td>4</td>\n",
       "      <td>1</td>\n",
       "      <td>1</td>\n",
       "      <td>1</td>\n",
       "      <td>1</td>\n",
       "      <td>3</td>\n",
       "      <td>1</td>\n",
       "      <td>4</td>\n",
       "      <td>1</td>\n",
       "      <td>22407</td>\n",
       "    </tr>\n",
       "    <tr>\n",
       "      <th>4</th>\n",
       "      <td>2</td>\n",
       "      <td>3</td>\n",
       "      <td>4</td>\n",
       "      <td>3</td>\n",
       "      <td>4</td>\n",
       "      <td>1</td>\n",
       "      <td>2</td>\n",
       "      <td>2</td>\n",
       "      <td>2</td>\n",
       "      <td>2</td>\n",
       "      <td>2</td>\n",
       "      <td>4</td>\n",
       "      <td>2</td>\n",
       "      <td>4</td>\n",
       "      <td>1</td>\n",
       "      <td>7940</td>\n",
       "    </tr>\n",
       "    <tr>\n",
       "      <th>...</th>\n",
       "      <td>...</td>\n",
       "      <td>...</td>\n",
       "      <td>...</td>\n",
       "      <td>...</td>\n",
       "      <td>...</td>\n",
       "      <td>...</td>\n",
       "      <td>...</td>\n",
       "      <td>...</td>\n",
       "      <td>...</td>\n",
       "      <td>...</td>\n",
       "      <td>...</td>\n",
       "      <td>...</td>\n",
       "      <td>...</td>\n",
       "      <td>...</td>\n",
       "      <td>...</td>\n",
       "      <td>...</td>\n",
       "    </tr>\n",
       "    <tr>\n",
       "      <th>25971</th>\n",
       "      <td>3</td>\n",
       "      <td>3</td>\n",
       "      <td>3</td>\n",
       "      <td>1</td>\n",
       "      <td>4</td>\n",
       "      <td>3</td>\n",
       "      <td>4</td>\n",
       "      <td>4</td>\n",
       "      <td>3</td>\n",
       "      <td>2</td>\n",
       "      <td>4</td>\n",
       "      <td>4</td>\n",
       "      <td>5</td>\n",
       "      <td>4</td>\n",
       "      <td>0</td>\n",
       "      <td>8663</td>\n",
       "    </tr>\n",
       "    <tr>\n",
       "      <th>25972</th>\n",
       "      <td>4</td>\n",
       "      <td>4</td>\n",
       "      <td>4</td>\n",
       "      <td>4</td>\n",
       "      <td>4</td>\n",
       "      <td>4</td>\n",
       "      <td>4</td>\n",
       "      <td>4</td>\n",
       "      <td>4</td>\n",
       "      <td>5</td>\n",
       "      <td>5</td>\n",
       "      <td>5</td>\n",
       "      <td>5</td>\n",
       "      <td>4</td>\n",
       "      <td>1</td>\n",
       "      <td>17488</td>\n",
       "    </tr>\n",
       "    <tr>\n",
       "      <th>25973</th>\n",
       "      <td>2</td>\n",
       "      <td>5</td>\n",
       "      <td>1</td>\n",
       "      <td>5</td>\n",
       "      <td>2</td>\n",
       "      <td>1</td>\n",
       "      <td>2</td>\n",
       "      <td>2</td>\n",
       "      <td>4</td>\n",
       "      <td>3</td>\n",
       "      <td>4</td>\n",
       "      <td>5</td>\n",
       "      <td>4</td>\n",
       "      <td>2</td>\n",
       "      <td>0</td>\n",
       "      <td>23731</td>\n",
       "    </tr>\n",
       "    <tr>\n",
       "      <th>25974</th>\n",
       "      <td>3</td>\n",
       "      <td>3</td>\n",
       "      <td>3</td>\n",
       "      <td>3</td>\n",
       "      <td>4</td>\n",
       "      <td>4</td>\n",
       "      <td>4</td>\n",
       "      <td>4</td>\n",
       "      <td>3</td>\n",
       "      <td>2</td>\n",
       "      <td>5</td>\n",
       "      <td>4</td>\n",
       "      <td>5</td>\n",
       "      <td>4</td>\n",
       "      <td>1</td>\n",
       "      <td>6787</td>\n",
       "    </tr>\n",
       "    <tr>\n",
       "      <th>25975</th>\n",
       "      <td>2</td>\n",
       "      <td>5</td>\n",
       "      <td>2</td>\n",
       "      <td>5</td>\n",
       "      <td>4</td>\n",
       "      <td>2</td>\n",
       "      <td>2</td>\n",
       "      <td>1</td>\n",
       "      <td>1</td>\n",
       "      <td>2</td>\n",
       "      <td>1</td>\n",
       "      <td>1</td>\n",
       "      <td>1</td>\n",
       "      <td>1</td>\n",
       "      <td>0</td>\n",
       "      <td>1454</td>\n",
       "    </tr>\n",
       "  </tbody>\n",
       "</table>\n",
       "<p>25976 rows × 16 columns</p>\n",
       "</div>"
      ],
      "text/plain": [
       "       WifiService  DepArrTimeConvenience  EaseofOnlineBooking  GateLocation  \\\n",
       "0                5                      4                    3             4   \n",
       "1                1                      1                    3             1   \n",
       "2                2                      0                    2             4   \n",
       "3                0                      0                    0             2   \n",
       "4                2                      3                    4             3   \n",
       "...            ...                    ...                  ...           ...   \n",
       "25971            3                      3                    3             1   \n",
       "25972            4                      4                    4             4   \n",
       "25973            2                      5                    1             5   \n",
       "25974            3                      3                    3             3   \n",
       "25975            2                      5                    2             5   \n",
       "\n",
       "       FoodDrink  EaseofOnlineBoarding  SeatComfort  InflightEntertainment  \\\n",
       "0              3                     4            3                      5   \n",
       "1              5                     4            5                      4   \n",
       "2              2                     2            2                      2   \n",
       "3              3                     4            4                      1   \n",
       "4              4                     1            2                      2   \n",
       "...          ...                   ...          ...                    ...   \n",
       "25971          4                     3            4                      4   \n",
       "25972          4                     4            4                      4   \n",
       "25973          2                     1            2                      2   \n",
       "25974          4                     4            4                      4   \n",
       "25975          4                     2            2                      1   \n",
       "\n",
       "       OnboardService  LegroomService  BaggageHandling  CheckinService  \\\n",
       "0                   5               5                5               2   \n",
       "1                   4               4                4               3   \n",
       "2                   4               1                3               2   \n",
       "3                   1               1                1               3   \n",
       "4                   2               2                2               4   \n",
       "...               ...             ...              ...             ...   \n",
       "25971               3               2                4               4   \n",
       "25972               4               5                5               5   \n",
       "25973               4               3                4               5   \n",
       "25974               3               2                5               4   \n",
       "25975               1               2                1               1   \n",
       "\n",
       "       InflightService  Cleanliness  Satisfaction  FlightID  \n",
       "0                    5            5             1     19241  \n",
       "1                    4            5             1     12983  \n",
       "2                    2            2             0      3706  \n",
       "3                    1            4             1     22407  \n",
       "4                    2            4             1      7940  \n",
       "...                ...          ...           ...       ...  \n",
       "25971                5            4             0      8663  \n",
       "25972                5            4             1     17488  \n",
       "25973                4            2             0     23731  \n",
       "25974                5            4             1      6787  \n",
       "25975                1            1             0      1454  \n",
       "\n",
       "[25976 rows x 16 columns]"
      ]
     },
     "execution_count": 19,
     "metadata": {},
     "output_type": "execute_result"
    }
   ],
   "source": [
    "rating_tbl "
   ]
  },
  {
   "cell_type": "code",
   "execution_count": 140,
   "id": "e32538d3",
   "metadata": {
    "ExecuteTime": {
     "end_time": "2023-05-24T05:28:51.406614Z",
     "start_time": "2023-05-24T05:28:51.327511Z"
    }
   },
   "outputs": [],
   "source": [
    "rating_tbl.to_csv(\"/Users/jiashu/Documents/UW_IMT563/Project/data/ETL_Dest/rating_tbl.csv\", index = False)"
   ]
  },
  {
   "cell_type": "markdown",
   "id": "901587e1",
   "metadata": {},
   "source": [
    "### Flight Table\n",
    "\n",
    "Source: https://www.bts.gov/explore-topics-and-geography/introduction-transportation-statistics"
   ]
  },
  {
   "cell_type": "code",
   "execution_count": 5,
   "id": "a88c3592",
   "metadata": {
    "ExecuteTime": {
     "end_time": "2023-05-25T18:47:58.145455Z",
     "start_time": "2023-05-25T18:47:56.784115Z"
    }
   },
   "outputs": [],
   "source": [
    "flight_csv = pd.read_csv('/Users/jiashu/Documents/UW_IMT563/Project/data/ETL_Source/flight_raw.csv')"
   ]
  },
  {
   "cell_type": "code",
   "execution_count": 6,
   "id": "c844eeec",
   "metadata": {
    "ExecuteTime": {
     "end_time": "2023-05-25T18:47:59.091171Z",
     "start_time": "2023-05-25T18:47:59.084023Z"
    }
   },
   "outputs": [
    {
     "data": {
      "text/plain": [
       "Index(['YEAR', 'QUARTER', 'MONTH', 'DAY_OF_MONTH', 'DAY_OF_WEEK', 'FL_DATE',\n",
       "       'OP_UNIQUE_CARRIER', 'OP_CARRIER_AIRLINE_ID', 'OP_CARRIER', 'TAIL_NUM',\n",
       "       'OP_CARRIER_FL_NUM', 'ORIGIN_AIRPORT_ID', 'ORIGIN_AIRPORT_SEQ_ID',\n",
       "       'ORIGIN_CITY_MARKET_ID', 'ORIGIN', 'ORIGIN_CITY_NAME',\n",
       "       'ORIGIN_STATE_ABR', 'ORIGIN_STATE_NM', 'DEST_AIRPORT_ID',\n",
       "       'DEST_AIRPORT_SEQ_ID', 'DEST_CITY_MARKET_ID', 'DEST', 'DEST_CITY_NAME',\n",
       "       'DEST_STATE_ABR', 'DEST_STATE_NM', 'CRS_DEP_TIME', 'DEP_TIME',\n",
       "       'DEP_DELAY', 'CRS_ARR_TIME', 'ARR_TIME', 'ARR_DELAY', 'CANCELLED',\n",
       "       'AIR_TIME', 'FLIGHTS', 'DISTANCE'],\n",
       "      dtype='object')"
      ]
     },
     "execution_count": 6,
     "metadata": {},
     "output_type": "execute_result"
    }
   ],
   "source": [
    "flight_csv.columns"
   ]
  },
  {
   "cell_type": "code",
   "execution_count": 7,
   "id": "02f1c25d",
   "metadata": {
    "ExecuteTime": {
     "end_time": "2023-05-25T18:48:35.997956Z",
     "start_time": "2023-05-25T18:48:35.957034Z"
    }
   },
   "outputs": [],
   "source": [
    "tbl_cols = ['FL_DATE','OP_CARRIER', \n",
    "            'OP_CARRIER_FL_NUM', 'ORIGIN', 'ORIGIN_CITY_NAME',\n",
    "            'DEST', 'DEST_CITY_NAME','CRS_DEP_TIME', 'DEP_TIME','DEP_DELAY', \n",
    "            'CRS_ARR_TIME', 'ARR_TIME', 'ARR_DELAY', 'CANCELLED',\n",
    "            'AIR_TIME', 'DISTANCE']\n",
    "\n",
    "flight_tbl = flight_csv[tbl_cols]\n",
    "\n",
    "tbl_cols = ['Date','CarrierIATA', \n",
    "            'FlightNumber', 'OriginAirport', 'OriginCityName',\n",
    "            'DestinationAirport', 'DestinationCityName', \n",
    "            'ScheduledDepTime','ActualDepTime','DepDelay', \n",
    "            'ScheduledArrTime', 'ActualArrTime', \n",
    "            'ArrDelay', 'Cancelled','AirTime', 'Distance']\n",
    "\n",
    "flight_tbl.columns = tbl_cols\n",
    "\n",
    "flight_tbl = flight_tbl[:30000]\n",
    "\n",
    "flight_tbl['UserID'] = np.random.randint(1, 4500, flight_tbl.shape[0])\n"
   ]
  },
  {
   "cell_type": "code",
   "execution_count": 8,
   "id": "35d40ff9",
   "metadata": {
    "ExecuteTime": {
     "end_time": "2023-05-25T18:48:42.546721Z",
     "start_time": "2023-05-25T18:48:42.540860Z"
    }
   },
   "outputs": [],
   "source": [
    "# reference: https://stackoverflow.com/questions/50559078/generating-random-dates-within-a-given-range-in-pandas\n",
    "\n",
    "def random_dates(start, end, n, unit='D', seed=None):\n",
    "    if not seed: \n",
    "        np.random.seed(0)\n",
    "\n",
    "    ndays = (end - start).days + 1\n",
    "    return start + pd.to_timedelta(\n",
    "        np.random.randint(0, ndays, n), unit=unit\n",
    "    )"
   ]
  },
  {
   "cell_type": "code",
   "execution_count": 9,
   "id": "dda78a9a",
   "metadata": {
    "ExecuteTime": {
     "end_time": "2023-05-25T18:48:43.354875Z",
     "start_time": "2023-05-25T18:48:43.335871Z"
    }
   },
   "outputs": [
    {
     "data": {
      "text/plain": [
       "DatetimeIndex(['2021-11-15', '2021-07-13', '2023-05-01', '2022-04-15',\n",
       "               '2022-02-02', '2022-10-30', '2020-10-04', '2021-08-22',\n",
       "               '2022-12-30', '2021-08-23'],\n",
       "              dtype='datetime64[ns]', freq=None)"
      ]
     },
     "execution_count": 9,
     "metadata": {},
     "output_type": "execute_result"
    }
   ],
   "source": [
    "start = pd.to_datetime('2020-01-01')\n",
    "end = pd.to_datetime('2023-05-01')\n",
    "random_dates(start, end, 10)"
   ]
  },
  {
   "cell_type": "code",
   "execution_count": 10,
   "id": "d1330643",
   "metadata": {
    "ExecuteTime": {
     "end_time": "2023-05-25T18:48:44.581893Z",
     "start_time": "2023-05-25T18:48:44.565082Z"
    }
   },
   "outputs": [],
   "source": [
    "flight_tbl['Date'] = random_dates(start, end, flight_tbl.shape[0])\n",
    "\n",
    "flight_tbl['TravelTypeID'] = np.random.randint(0, 2, flight_tbl.shape[0])\n",
    "\n",
    "flight_tbl['CabinClassID'] = np.random.randint(0, 3, flight_tbl.shape[0])"
   ]
  },
  {
   "cell_type": "code",
   "execution_count": 11,
   "id": "3767092e",
   "metadata": {
    "ExecuteTime": {
     "end_time": "2023-05-25T18:48:45.497605Z",
     "start_time": "2023-05-25T18:48:45.487471Z"
    }
   },
   "outputs": [],
   "source": [
    "flight_tbl.ActualArrTime.replace(np.nan,0, inplace= True) \n",
    "flight_tbl.ActualDepTime.replace(np.nan,0, inplace= True)\n",
    "flight_tbl.ArrDelay.replace(np. nan,0, inplace= True)\n",
    "flight_tbl.DepDelay.replace(np. nan,0, inplace= True)\n",
    "flight_tbl.AirTime.replace(np. nan,0, inplace= True)"
   ]
  },
  {
   "cell_type": "code",
   "execution_count": 16,
   "id": "bf79229c",
   "metadata": {
    "ExecuteTime": {
     "end_time": "2023-05-25T19:26:02.889931Z",
     "start_time": "2023-05-25T19:26:02.886585Z"
    }
   },
   "outputs": [],
   "source": [
    "def getCity(c):\n",
    "    return c.split(',')[0].strip()"
   ]
  },
  {
   "cell_type": "code",
   "execution_count": 18,
   "id": "513b9115",
   "metadata": {
    "ExecuteTime": {
     "end_time": "2023-05-25T19:26:36.645965Z",
     "start_time": "2023-05-25T19:26:36.612497Z"
    }
   },
   "outputs": [],
   "source": [
    "flight_tbl['OriginCityName'] = flight_tbl['OriginCityName'].apply(getCity)\n",
    "flight_tbl['DestinationCityName'] = flight_tbl['DestinationCityName'].apply(getCity)"
   ]
  },
  {
   "cell_type": "code",
   "execution_count": 19,
   "id": "b5c06033",
   "metadata": {
    "ExecuteTime": {
     "end_time": "2023-05-25T19:26:38.565959Z",
     "start_time": "2023-05-25T19:26:38.537144Z"
    }
   },
   "outputs": [
    {
     "data": {
      "text/html": [
       "<div>\n",
       "<style scoped>\n",
       "    .dataframe tbody tr th:only-of-type {\n",
       "        vertical-align: middle;\n",
       "    }\n",
       "\n",
       "    .dataframe tbody tr th {\n",
       "        vertical-align: top;\n",
       "    }\n",
       "\n",
       "    .dataframe thead th {\n",
       "        text-align: right;\n",
       "    }\n",
       "</style>\n",
       "<table border=\"1\" class=\"dataframe\">\n",
       "  <thead>\n",
       "    <tr style=\"text-align: right;\">\n",
       "      <th></th>\n",
       "      <th>Date</th>\n",
       "      <th>CarrierIATA</th>\n",
       "      <th>FlightNumber</th>\n",
       "      <th>OriginAirport</th>\n",
       "      <th>OriginCityName</th>\n",
       "      <th>DestinationAirport</th>\n",
       "      <th>DestinationCityName</th>\n",
       "      <th>ScheduledDepTime</th>\n",
       "      <th>ActualDepTime</th>\n",
       "      <th>DepDelay</th>\n",
       "      <th>ScheduledArrTime</th>\n",
       "      <th>ActualArrTime</th>\n",
       "      <th>ArrDelay</th>\n",
       "      <th>Cancelled</th>\n",
       "      <th>AirTime</th>\n",
       "      <th>Distance</th>\n",
       "      <th>UserID</th>\n",
       "      <th>TravelTypeID</th>\n",
       "      <th>CabinClassID</th>\n",
       "    </tr>\n",
       "  </thead>\n",
       "  <tbody>\n",
       "    <tr>\n",
       "      <th>0</th>\n",
       "      <td>2021-11-15</td>\n",
       "      <td>9E</td>\n",
       "      <td>5244</td>\n",
       "      <td>ORD</td>\n",
       "      <td>Chicago</td>\n",
       "      <td>JFK</td>\n",
       "      <td>New York</td>\n",
       "      <td>1520</td>\n",
       "      <td>1524.0</td>\n",
       "      <td>4.0</td>\n",
       "      <td>1841</td>\n",
       "      <td>1838.0</td>\n",
       "      <td>-3.0</td>\n",
       "      <td>0.0</td>\n",
       "      <td>91.0</td>\n",
       "      <td>740.0</td>\n",
       "      <td>2140</td>\n",
       "      <td>0</td>\n",
       "      <td>1</td>\n",
       "    </tr>\n",
       "    <tr>\n",
       "      <th>1</th>\n",
       "      <td>2021-07-13</td>\n",
       "      <td>9E</td>\n",
       "      <td>5317</td>\n",
       "      <td>JFK</td>\n",
       "      <td>New York</td>\n",
       "      <td>ORD</td>\n",
       "      <td>Chicago</td>\n",
       "      <td>945</td>\n",
       "      <td>941.0</td>\n",
       "      <td>-4.0</td>\n",
       "      <td>1144</td>\n",
       "      <td>1120.0</td>\n",
       "      <td>-24.0</td>\n",
       "      <td>0.0</td>\n",
       "      <td>126.0</td>\n",
       "      <td>740.0</td>\n",
       "      <td>2019</td>\n",
       "      <td>1</td>\n",
       "      <td>2</td>\n",
       "    </tr>\n",
       "    <tr>\n",
       "      <th>2</th>\n",
       "      <td>2023-05-01</td>\n",
       "      <td>9E</td>\n",
       "      <td>5397</td>\n",
       "      <td>JFK</td>\n",
       "      <td>New York</td>\n",
       "      <td>BGR</td>\n",
       "      <td>Bangor</td>\n",
       "      <td>2100</td>\n",
       "      <td>2056.0</td>\n",
       "      <td>-4.0</td>\n",
       "      <td>2236</td>\n",
       "      <td>2229.0</td>\n",
       "      <td>-7.0</td>\n",
       "      <td>0.0</td>\n",
       "      <td>60.0</td>\n",
       "      <td>382.0</td>\n",
       "      <td>819</td>\n",
       "      <td>0</td>\n",
       "      <td>0</td>\n",
       "    </tr>\n",
       "    <tr>\n",
       "      <th>3</th>\n",
       "      <td>2022-04-15</td>\n",
       "      <td>9E</td>\n",
       "      <td>5076</td>\n",
       "      <td>ATL</td>\n",
       "      <td>Atlanta</td>\n",
       "      <td>SGF</td>\n",
       "      <td>Springfield</td>\n",
       "      <td>1130</td>\n",
       "      <td>1125.0</td>\n",
       "      <td>-5.0</td>\n",
       "      <td>1225</td>\n",
       "      <td>1214.0</td>\n",
       "      <td>-11.0</td>\n",
       "      <td>0.0</td>\n",
       "      <td>88.0</td>\n",
       "      <td>563.0</td>\n",
       "      <td>305</td>\n",
       "      <td>1</td>\n",
       "      <td>2</td>\n",
       "    </tr>\n",
       "    <tr>\n",
       "      <th>4</th>\n",
       "      <td>2022-02-02</td>\n",
       "      <td>9E</td>\n",
       "      <td>5076</td>\n",
       "      <td>SGF</td>\n",
       "      <td>Springfield</td>\n",
       "      <td>ATL</td>\n",
       "      <td>Atlanta</td>\n",
       "      <td>1400</td>\n",
       "      <td>1354.0</td>\n",
       "      <td>-6.0</td>\n",
       "      <td>1637</td>\n",
       "      <td>1630.0</td>\n",
       "      <td>-7.0</td>\n",
       "      <td>0.0</td>\n",
       "      <td>75.0</td>\n",
       "      <td>563.0</td>\n",
       "      <td>326</td>\n",
       "      <td>0</td>\n",
       "      <td>2</td>\n",
       "    </tr>\n",
       "    <tr>\n",
       "      <th>...</th>\n",
       "      <td>...</td>\n",
       "      <td>...</td>\n",
       "      <td>...</td>\n",
       "      <td>...</td>\n",
       "      <td>...</td>\n",
       "      <td>...</td>\n",
       "      <td>...</td>\n",
       "      <td>...</td>\n",
       "      <td>...</td>\n",
       "      <td>...</td>\n",
       "      <td>...</td>\n",
       "      <td>...</td>\n",
       "      <td>...</td>\n",
       "      <td>...</td>\n",
       "      <td>...</td>\n",
       "      <td>...</td>\n",
       "      <td>...</td>\n",
       "      <td>...</td>\n",
       "      <td>...</td>\n",
       "    </tr>\n",
       "    <tr>\n",
       "      <th>29995</th>\n",
       "      <td>2020-08-02</td>\n",
       "      <td>WN</td>\n",
       "      <td>1555</td>\n",
       "      <td>TPA</td>\n",
       "      <td>Tampa</td>\n",
       "      <td>BNA</td>\n",
       "      <td>Nashville</td>\n",
       "      <td>1100</td>\n",
       "      <td>1117.0</td>\n",
       "      <td>17.0</td>\n",
       "      <td>1200</td>\n",
       "      <td>1206.0</td>\n",
       "      <td>6.0</td>\n",
       "      <td>0.0</td>\n",
       "      <td>94.0</td>\n",
       "      <td>612.0</td>\n",
       "      <td>3197</td>\n",
       "      <td>0</td>\n",
       "      <td>0</td>\n",
       "    </tr>\n",
       "    <tr>\n",
       "      <th>29996</th>\n",
       "      <td>2023-01-05</td>\n",
       "      <td>WN</td>\n",
       "      <td>3467</td>\n",
       "      <td>BNA</td>\n",
       "      <td>Nashville</td>\n",
       "      <td>MDW</td>\n",
       "      <td>Chicago</td>\n",
       "      <td>1245</td>\n",
       "      <td>1311.0</td>\n",
       "      <td>26.0</td>\n",
       "      <td>1420</td>\n",
       "      <td>1431.0</td>\n",
       "      <td>11.0</td>\n",
       "      <td>0.0</td>\n",
       "      <td>64.0</td>\n",
       "      <td>395.0</td>\n",
       "      <td>488</td>\n",
       "      <td>0</td>\n",
       "      <td>2</td>\n",
       "    </tr>\n",
       "    <tr>\n",
       "      <th>29997</th>\n",
       "      <td>2021-10-30</td>\n",
       "      <td>WN</td>\n",
       "      <td>3467</td>\n",
       "      <td>MDW</td>\n",
       "      <td>Chicago</td>\n",
       "      <td>PHX</td>\n",
       "      <td>Phoenix</td>\n",
       "      <td>1505</td>\n",
       "      <td>1601.0</td>\n",
       "      <td>56.0</td>\n",
       "      <td>1800</td>\n",
       "      <td>1836.0</td>\n",
       "      <td>36.0</td>\n",
       "      <td>0.0</td>\n",
       "      <td>198.0</td>\n",
       "      <td>1444.0</td>\n",
       "      <td>952</td>\n",
       "      <td>0</td>\n",
       "      <td>2</td>\n",
       "    </tr>\n",
       "    <tr>\n",
       "      <th>29998</th>\n",
       "      <td>2022-06-27</td>\n",
       "      <td>WN</td>\n",
       "      <td>3525</td>\n",
       "      <td>DAL</td>\n",
       "      <td>Dallas</td>\n",
       "      <td>TPA</td>\n",
       "      <td>Tampa</td>\n",
       "      <td>710</td>\n",
       "      <td>719.0</td>\n",
       "      <td>9.0</td>\n",
       "      <td>1025</td>\n",
       "      <td>1031.0</td>\n",
       "      <td>6.0</td>\n",
       "      <td>0.0</td>\n",
       "      <td>116.0</td>\n",
       "      <td>917.0</td>\n",
       "      <td>1245</td>\n",
       "      <td>0</td>\n",
       "      <td>0</td>\n",
       "    </tr>\n",
       "    <tr>\n",
       "      <th>29999</th>\n",
       "      <td>2020-05-17</td>\n",
       "      <td>WN</td>\n",
       "      <td>940</td>\n",
       "      <td>PHX</td>\n",
       "      <td>Phoenix</td>\n",
       "      <td>MDW</td>\n",
       "      <td>Chicago</td>\n",
       "      <td>1845</td>\n",
       "      <td>1909.0</td>\n",
       "      <td>24.0</td>\n",
       "      <td>2300</td>\n",
       "      <td>2315.0</td>\n",
       "      <td>15.0</td>\n",
       "      <td>0.0</td>\n",
       "      <td>168.0</td>\n",
       "      <td>1444.0</td>\n",
       "      <td>2379</td>\n",
       "      <td>0</td>\n",
       "      <td>1</td>\n",
       "    </tr>\n",
       "  </tbody>\n",
       "</table>\n",
       "<p>30000 rows × 19 columns</p>\n",
       "</div>"
      ],
      "text/plain": [
       "            Date CarrierIATA  FlightNumber OriginAirport OriginCityName  \\\n",
       "0     2021-11-15          9E          5244           ORD        Chicago   \n",
       "1     2021-07-13          9E          5317           JFK       New York   \n",
       "2     2023-05-01          9E          5397           JFK       New York   \n",
       "3     2022-04-15          9E          5076           ATL        Atlanta   \n",
       "4     2022-02-02          9E          5076           SGF    Springfield   \n",
       "...          ...         ...           ...           ...            ...   \n",
       "29995 2020-08-02          WN          1555           TPA          Tampa   \n",
       "29996 2023-01-05          WN          3467           BNA      Nashville   \n",
       "29997 2021-10-30          WN          3467           MDW        Chicago   \n",
       "29998 2022-06-27          WN          3525           DAL         Dallas   \n",
       "29999 2020-05-17          WN           940           PHX        Phoenix   \n",
       "\n",
       "      DestinationAirport DestinationCityName  ScheduledDepTime  ActualDepTime  \\\n",
       "0                    JFK            New York              1520         1524.0   \n",
       "1                    ORD             Chicago               945          941.0   \n",
       "2                    BGR              Bangor              2100         2056.0   \n",
       "3                    SGF         Springfield              1130         1125.0   \n",
       "4                    ATL             Atlanta              1400         1354.0   \n",
       "...                  ...                 ...               ...            ...   \n",
       "29995                BNA           Nashville              1100         1117.0   \n",
       "29996                MDW             Chicago              1245         1311.0   \n",
       "29997                PHX             Phoenix              1505         1601.0   \n",
       "29998                TPA               Tampa               710          719.0   \n",
       "29999                MDW             Chicago              1845         1909.0   \n",
       "\n",
       "       DepDelay  ScheduledArrTime  ActualArrTime  ArrDelay  Cancelled  \\\n",
       "0           4.0              1841         1838.0      -3.0        0.0   \n",
       "1          -4.0              1144         1120.0     -24.0        0.0   \n",
       "2          -4.0              2236         2229.0      -7.0        0.0   \n",
       "3          -5.0              1225         1214.0     -11.0        0.0   \n",
       "4          -6.0              1637         1630.0      -7.0        0.0   \n",
       "...         ...               ...            ...       ...        ...   \n",
       "29995      17.0              1200         1206.0       6.0        0.0   \n",
       "29996      26.0              1420         1431.0      11.0        0.0   \n",
       "29997      56.0              1800         1836.0      36.0        0.0   \n",
       "29998       9.0              1025         1031.0       6.0        0.0   \n",
       "29999      24.0              2300         2315.0      15.0        0.0   \n",
       "\n",
       "       AirTime  Distance  UserID  TravelTypeID  CabinClassID  \n",
       "0         91.0     740.0    2140             0             1  \n",
       "1        126.0     740.0    2019             1             2  \n",
       "2         60.0     382.0     819             0             0  \n",
       "3         88.0     563.0     305             1             2  \n",
       "4         75.0     563.0     326             0             2  \n",
       "...        ...       ...     ...           ...           ...  \n",
       "29995     94.0     612.0    3197             0             0  \n",
       "29996     64.0     395.0     488             0             2  \n",
       "29997    198.0    1444.0     952             0             2  \n",
       "29998    116.0     917.0    1245             0             0  \n",
       "29999    168.0    1444.0    2379             0             1  \n",
       "\n",
       "[30000 rows x 19 columns]"
      ]
     },
     "execution_count": 19,
     "metadata": {},
     "output_type": "execute_result"
    }
   ],
   "source": [
    "flight_tbl"
   ]
  },
  {
   "cell_type": "code",
   "execution_count": 20,
   "id": "03559a3b",
   "metadata": {
    "ExecuteTime": {
     "end_time": "2023-05-25T19:26:44.334315Z",
     "start_time": "2023-05-25T19:26:44.153429Z"
    }
   },
   "outputs": [],
   "source": [
    "flight_tbl.to_csv(\"/Users/jiashu/Documents/UW_IMT563/Project/data/ETL_Dest/flight_tbl.csv\", index = False)"
   ]
  },
  {
   "cell_type": "markdown",
   "id": "7ff28d84",
   "metadata": {},
   "source": [
    "### THE END"
   ]
  }
 ],
 "metadata": {
  "kernelspec": {
   "display_name": "Python 3 (ipykernel)",
   "language": "python",
   "name": "python3"
  },
  "language_info": {
   "codemirror_mode": {
    "name": "ipython",
    "version": 3
   },
   "file_extension": ".py",
   "mimetype": "text/x-python",
   "name": "python",
   "nbconvert_exporter": "python",
   "pygments_lexer": "ipython3",
   "version": "3.10.9"
  },
  "toc": {
   "base_numbering": 1,
   "nav_menu": {},
   "number_sections": true,
   "sideBar": true,
   "skip_h1_title": false,
   "title_cell": "Table of Contents",
   "title_sidebar": "Contents",
   "toc_cell": false,
   "toc_position": {},
   "toc_section_display": true,
   "toc_window_display": false
  },
  "varInspector": {
   "cols": {
    "lenName": 16,
    "lenType": 16,
    "lenVar": 40
   },
   "kernels_config": {
    "python": {
     "delete_cmd_postfix": "",
     "delete_cmd_prefix": "del ",
     "library": "var_list.py",
     "varRefreshCmd": "print(var_dic_list())"
    },
    "r": {
     "delete_cmd_postfix": ") ",
     "delete_cmd_prefix": "rm(",
     "library": "var_list.r",
     "varRefreshCmd": "cat(var_dic_list()) "
    }
   },
   "types_to_exclude": [
    "module",
    "function",
    "builtin_function_or_method",
    "instance",
    "_Feature"
   ],
   "window_display": false
  }
 },
 "nbformat": 4,
 "nbformat_minor": 5
}
